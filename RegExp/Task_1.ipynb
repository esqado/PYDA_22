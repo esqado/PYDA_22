{
 "cells": [
  {
   "cell_type": "code",
   "execution_count": 13,
   "id": "6f0fd3af",
   "metadata": {},
   "outputs": [
    {
     "name": "stdout",
     "output_type": "stream",
     "text": [
      "Фразы равны\n"
     ]
    }
   ],
   "source": [
    "def func():\n",
    "    phrase_1 = '640Кб должно хватить для любых задач. Билл Гейтс (по легенде)'\n",
    "    #phrase_2 = 'Насколько проще было бы писать программы, если бы не заказчики'\n",
    "\n",
    "    #phrase_1 = 'Насколько проще было бы писать программы, если бы не заказчики'\n",
    "    phrase_2 = '640Кб должно хватить для любых задач. Билл Гейтс (по легенде)'\n",
    "\n",
    "    if len(phrase_1) > len(phrase_2):\n",
    "        print(\"Фраза 1 длиннее фразы 2\")\n",
    "    elif len(phrase_1) < len(phrase_2):\n",
    "        print(\"Фраза 2 длиннее фразы 1\")\n",
    "    elif phrase_1 == phrase_2:\n",
    "        print(\"Фразы равны\")\n",
    "func()"
   ]
  },
  {
   "cell_type": "code",
   "execution_count": null,
   "id": "ed3d0529",
   "metadata": {},
   "outputs": [],
   "source": []
  }
 ],
 "metadata": {
  "kernelspec": {
   "display_name": "Python 3",
   "language": "python",
   "name": "python3"
  },
  "language_info": {
   "codemirror_mode": {
    "name": "ipython",
    "version": 3
   },
   "file_extension": ".py",
   "mimetype": "text/x-python",
   "name": "python",
   "nbconvert_exporter": "python",
   "pygments_lexer": "ipython3",
   "version": "3.9.5"
  }
 },
 "nbformat": 4,
 "nbformat_minor": 5
}
