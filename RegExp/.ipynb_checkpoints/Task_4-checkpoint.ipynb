{
 "cells": [
  {
   "cell_type": "code",
   "execution_count": 29,
   "id": "42bff28d",
   "metadata": {},
   "outputs": [
    {
     "name": "stdout",
     "output_type": "stream",
     "text": [
      "Введите ширину:500\n",
      "Введите длину:200\n",
      "Введите высоту:200\n",
      "Стандартная коробка №3\n"
     ]
    }
   ],
   "source": [
    "def func():\n",
    "    \n",
    "    width = input(\"Введите ширину:\")\n",
    "    length = input(\"Введите длину:\")\n",
    "    height = input(\"Введите высоту:\")\n",
    "\n",
    "    if not width.isdigit() or not length.isdigit() or not height.isdigit():\n",
    "        print(\"Обнаружено не числовое значение.\")\n",
    "        return\n",
    "\n",
    "    width = int(width)\n",
    "    length = int(length)\n",
    "    height = int(height)\n",
    "    \n",
    "    if width < 15 and length < 15 and height < 15:\n",
    "        print(\"Коробка №1\")\n",
    "    elif length > 200:\n",
    "        print(\"Упаковка для лыж\")\n",
    "    elif (width > 15 and width < 50) or (length > 15 and length < 50) or (height > 15 and height < 50):\n",
    "        print(\"Коробка №2\")\n",
    "    else:\n",
    "        print(\"Стандартная коробка №3\")\n",
    "\n",
    "func()"
   ]
  },
  {
   "cell_type": "code",
   "execution_count": null,
   "id": "ef6b6629",
   "metadata": {},
   "outputs": [],
   "source": []
  }
 ],
 "metadata": {
  "kernelspec": {
   "display_name": "Python 3",
   "language": "python",
   "name": "python3"
  },
  "language_info": {
   "codemirror_mode": {
    "name": "ipython",
    "version": 3
   },
   "file_extension": ".py",
   "mimetype": "text/x-python",
   "name": "python",
   "nbconvert_exporter": "python",
   "pygments_lexer": "ipython3",
   "version": "3.9.5"
  }
 },
 "nbformat": 4,
 "nbformat_minor": 5
}
