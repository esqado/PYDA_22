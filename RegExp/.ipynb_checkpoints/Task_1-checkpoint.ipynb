{
 "cells": [
  {
   "cell_type": "code",
   "execution_count": 39,
   "id": "6f0fd3af",
   "metadata": {},
   "outputs": [
    {
     "name": "stdout",
     "output_type": "stream",
     "text": [
      "Номер не валиден\n"
     ]
    }
   ],
   "source": [
    "import re\n",
    "\n",
    "def func():\n",
    "    \n",
    "    car_num = 'А222BС96'\n",
    "    car_num = 'АБ22ВВ193'\n",
    "    \n",
    "    if re.findall(r'[A-Я]\\d{3}[A-Я]{2}\\d{2,3}$', car_num) == []:\n",
    "        print('Номер не валиден')\n",
    "        return\n",
    "    \n",
    "    print('Номер ' + ''.join(re.findall(r'[A-Я]\\d{3}[A-Я]{2}', car_num)) + ' валиден. Регион: ' + ''.join(re.findall(r'\\s*\\d{2,3}$', car_num)))\n",
    "    \n",
    "func()"
   ]
  }
 ],
 "metadata": {
  "kernelspec": {
   "display_name": "Python 3",
   "language": "python",
   "name": "python3"
  },
  "language_info": {
   "codemirror_mode": {
    "name": "ipython",
    "version": 3
   },
   "file_extension": ".py",
   "mimetype": "text/x-python",
   "name": "python",
   "nbconvert_exporter": "python",
   "pygments_lexer": "ipython3",
   "version": "3.9.5"
  }
 },
 "nbformat": 4,
 "nbformat_minor": 5
}
