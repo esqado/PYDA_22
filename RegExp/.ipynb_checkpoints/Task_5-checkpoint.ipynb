{
 "cells": [
  {
   "cell_type": "code",
   "execution_count": 2,
   "id": "42bff28d",
   "metadata": {},
   "outputs": [
    {
     "name": "stdout",
     "output_type": "stream",
     "text": [
      "Введите номера билета (6 цифр):123321\n",
      "Счастливый билет 😸\n"
     ]
    }
   ],
   "source": [
    "def func():\n",
    "    \n",
    "    ticketNum = input('Введите номера билета (6 цифр):')\n",
    "    if len(ticketNum) != 6 or not(ticketNum.isdigit()):\n",
    "        #тут должен быть возврат\n",
    "        print(\"Количество символов отличается от 6-и или строка не состоит из цифр\")\n",
    "\n",
    "    tickS = 0\n",
    "    tickE = 0\n",
    "\n",
    "    for char in ticketNum[0:3]:\n",
    "        tickS += int(char)\n",
    "\n",
    "    for char in ticketNum[3:6]:\n",
    "        tickE += int(char)\n",
    "\n",
    "    if tickS == tickE:\n",
    "        print(\"Счастливый билет \" + u'\\U0001F638')\n",
    "    else:\n",
    "        print(\"Попробуй вытянуть другой \" + u'\\U0001F63F')\n",
    "        \n",
    "func()"
   ]
  }
 ],
 "metadata": {
  "kernelspec": {
   "display_name": "Python 3",
   "language": "python",
   "name": "python3"
  },
  "language_info": {
   "codemirror_mode": {
    "name": "ipython",
    "version": 3
   },
   "file_extension": ".py",
   "mimetype": "text/x-python",
   "name": "python",
   "nbconvert_exporter": "python",
   "pygments_lexer": "ipython3",
   "version": "3.9.5"
  }
 },
 "nbformat": 4,
 "nbformat_minor": 5
}
