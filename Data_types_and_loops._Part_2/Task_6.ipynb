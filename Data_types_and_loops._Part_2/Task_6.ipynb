{
 "cells": [
  {
   "cell_type": "code",
   "execution_count": 117,
   "id": "6f0fd3af",
   "metadata": {},
   "outputs": [
    {
     "name": "stdout",
     "output_type": "stream",
     "text": [
      "сыр: 210 гр\n",
      "томаты: 6 шт\n",
      "огурцы: 60 гр\n",
      "маслины: 30 гр\n",
      "оливковое масло: 60 мл\n",
      "салат: 30 гр\n",
      "перец: 60 гр\n",
      "колбаса: 90 гр\n",
      "бекон: 90 гр\n",
      "оливки: 30 гр\n",
      "томаты: 60 гр\n",
      "тесто: 300 гр\n",
      "лимон: 3 шт\n",
      "вода: 600 мл\n",
      "сахар: 30 гр\n",
      "лайм: 60 гр\n"
     ]
    }
   ],
   "source": [
    "def func(person):\n",
    "    \n",
    "    cook_book = {\n",
    "      'салат': [\n",
    "         {'ingridient_name': 'сыр', 'quantity': 50, 'measure': 'гр'},\n",
    "         {'ingridient_name': 'томаты', 'quantity': 2, 'measure': 'шт'},\n",
    "         {'ingridient_name': 'огурцы', 'quantity': 20, 'measure': 'гр'},\n",
    "         {'ingridient_name': 'маслины', 'quantity': 10, 'measure': 'гр'},\n",
    "         {'ingridient_name': 'оливковое масло', 'quantity': 20, 'measure': 'мл'},\n",
    "         {'ingridient_name': 'салат', 'quantity': 10, 'measure': 'гр'},\n",
    "         {'ingridient_name': 'перец', 'quantity': 20, 'measure': 'гр'}\n",
    "        ],\n",
    "      'пицца': [\n",
    "         {'ingridient_name': 'сыр', 'quantity': 20, 'measure': 'гр'},\n",
    "         {'ingridient_name': 'колбаса', 'quantity': 30, 'measure': 'гр'},\n",
    "         {'ingridient_name': 'бекон', 'quantity': 30, 'measure': 'гр'},\n",
    "         {'ingridient_name': 'оливки', 'quantity': 10, 'measure': 'гр'},\n",
    "         {'ingridient_name': 'томаты', 'quantity': 20, 'measure': 'гр'},\n",
    "         {'ingridient_name': 'тесто', 'quantity': 100, 'measure': 'гр'},   \n",
    "        ],\n",
    "      'лимонад': [\n",
    "         {'ingridient_name': 'лимон', 'quantity': 1, 'measure': 'шт'},\n",
    "         {'ingridient_name': 'вода', 'quantity': 200, 'measure': 'мл'},\n",
    "         {'ingridient_name': 'сахар', 'quantity': 10, 'measure': 'гр'},\n",
    "         {'ingridient_name': 'лайм', 'quantity': 20, 'measure': 'гр'},    \n",
    "        ]\n",
    "    }\n",
    "    \n",
    "    my_dict = {}\n",
    "    \n",
    "    for item in cook_book.values():\n",
    "        for ing in item:\n",
    "            key = ing['ingridient_name'] + ing['measure']\n",
    "            if my_dict.get(key) == None:\n",
    "                my_dict[key] = [ing['ingridient_name'], ing['quantity'], ing['measure']]\n",
    "            else:\n",
    "                my_dict[key][1] += ing['quantity']\n",
    "    \n",
    "    for item in my_dict.values():\n",
    "        print(item[0] + ': ' + str(item[1] * person) + ' ' + item[2])\n",
    "    \n",
    "func(3)"
   ]
  },
  {
   "cell_type": "code",
   "execution_count": null,
   "id": "c0d6f825",
   "metadata": {},
   "outputs": [],
   "source": []
  },
  {
   "cell_type": "code",
   "execution_count": null,
   "id": "8121dbd3",
   "metadata": {},
   "outputs": [],
   "source": []
  }
 ],
 "metadata": {
  "kernelspec": {
   "display_name": "Python 3",
   "language": "python",
   "name": "python3"
  },
  "language_info": {
   "codemirror_mode": {
    "name": "ipython",
    "version": 3
   },
   "file_extension": ".py",
   "mimetype": "text/x-python",
   "name": "python",
   "nbconvert_exporter": "python",
   "pygments_lexer": "ipython3",
   "version": "3.9.5"
  }
 },
 "nbformat": 4,
 "nbformat_minor": 5
}
