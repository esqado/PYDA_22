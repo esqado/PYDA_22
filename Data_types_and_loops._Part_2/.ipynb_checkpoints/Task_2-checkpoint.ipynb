{
 "cells": [
  {
   "cell_type": "code",
   "execution_count": 37,
   "id": "6f0fd3af",
   "metadata": {
    "scrolled": true
   },
   "outputs": [
    {
     "name": "stdout",
     "output_type": "stream",
     "text": [
      "Поисковых запросов, содержащих 2 слов(а): 37.5\n",
      "Поисковых запросов, содержащих 3 слов(а): 50.0\n",
      "Поисковых запросов, содержащих 4 слов(а): 12.5\n"
     ]
    }
   ],
   "source": [
    "def func():\n",
    "\n",
    "    queries = [\n",
    "        'смотреть сериалы онлайн',\n",
    "        'новости спорта',\n",
    "        'афиша кино',\n",
    "        'курс доллара',\n",
    "        'сериалы этим летом',\n",
    "        'курс по питону',\n",
    "        'сериалы про спорт',\n",
    "        'фильмы для совершенно летних'\n",
    "    ]\n",
    "    \n",
    "    arr = []\n",
    "    \n",
    "    for query in queries:\n",
    "        arr.append(len(query.split(' ')))\n",
    "    \n",
    "    for elem in set(arr):\n",
    "        print('Поисковых запросов, содержащих ' + str(elem) + ' слов(а): ' + str(arr.count(elem) * 100 / len(arr)))\n",
    "    \n",
    "func()"
   ]
  }
 ],
 "metadata": {
  "kernelspec": {
   "display_name": "Python 3",
   "language": "python",
   "name": "python3"
  },
  "language_info": {
   "codemirror_mode": {
    "name": "ipython",
    "version": 3
   },
   "file_extension": ".py",
   "mimetype": "text/x-python",
   "name": "python",
   "nbconvert_exporter": "python",
   "pygments_lexer": "ipython3",
   "version": "3.9.5"
  }
 },
 "nbformat": 4,
 "nbformat_minor": 5
}
