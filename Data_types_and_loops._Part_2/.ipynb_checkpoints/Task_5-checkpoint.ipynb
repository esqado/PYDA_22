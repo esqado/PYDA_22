{
 "cells": [
  {
   "cell_type": "code",
   "execution_count": 145,
   "id": "6f0fd3af",
   "metadata": {},
   "outputs": [
    {
     "name": "stdout",
     "output_type": "stream",
     "text": [
      "{'a': {'b': {'c': {'d': {'e': 'f'}}}}}\n"
     ]
    }
   ],
   "source": [
    "def word ():\n",
    "    \n",
    "    my_list = ['a', 'b', 'c', 'd', 'e', 'f']\n",
    "    #my_list = ['2018-01-01', 'yandex', 'cpc', 100]\n",
    "    \n",
    "    while (len(my_list) - 1) > 0:\n",
    "        last = my_list.pop()\n",
    "        my_list[len(my_list) - 1] = {my_list[len(my_list) - 1]:last}\n",
    "        \n",
    "    print(my_list[0])\n",
    "\n",
    "word()"
   ]
  }
 ],
 "metadata": {
  "kernelspec": {
   "display_name": "Python 3",
   "language": "python",
   "name": "python3"
  },
  "language_info": {
   "codemirror_mode": {
    "name": "ipython",
    "version": 3
   },
   "file_extension": ".py",
   "mimetype": "text/x-python",
   "name": "python",
   "nbconvert_exporter": "python",
   "pygments_lexer": "ipython3",
   "version": "3.9.5"
  }
 },
 "nbformat": 4,
 "nbformat_minor": 5
}
