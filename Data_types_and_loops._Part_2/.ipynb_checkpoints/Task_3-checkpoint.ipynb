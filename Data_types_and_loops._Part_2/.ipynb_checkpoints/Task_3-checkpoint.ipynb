{
 "cells": [
  {
   "cell_type": "code",
   "execution_count": 67,
   "id": "6f0fd3af",
   "metadata": {},
   "outputs": [
    {
     "name": "stdout",
     "output_type": "stream",
     "text": [
      "{'vk': {'revenue': 103, 'cost': 98, 'ROI': 5.1}, 'yandex': {'revenue': 179, 'cost': 153, 'ROI': 16.99}, 'facebook': {'revenue': 103, 'cost': 110, 'ROI': -6.36}, 'adwords': {'revenue': 35, 'cost': 34, 'ROI': 2.94}, 'twitter': {'revenue': 11, 'cost': 24, 'ROI': -54.17}}\n"
     ]
    }
   ],
   "source": [
    "def func():\n",
    "    \n",
    "    results = {\n",
    "        'vk': {'revenue': 103, 'cost': 98},\n",
    "        'yandex': {'revenue': 179, 'cost': 153},\n",
    "        'facebook': {'revenue': 103, 'cost': 110},\n",
    "        'adwords': {'revenue': 35, 'cost': 34},\n",
    "        'twitter': {'revenue': 11, 'cost': 24},\n",
    "    }\n",
    "    \n",
    "    for res in results:\n",
    "        results[res]['ROI'] = round((results[res]['revenue'] / results[res]['cost'] - 1) * 100, 2)\n",
    "        \n",
    "    print(results)\n",
    "    \n",
    "func()"
   ]
  }
 ],
 "metadata": {
  "kernelspec": {
   "display_name": "Python 3",
   "language": "python",
   "name": "python3"
  },
  "language_info": {
   "codemirror_mode": {
    "name": "ipython",
    "version": 3
   },
   "file_extension": ".py",
   "mimetype": "text/x-python",
   "name": "python",
   "nbconvert_exporter": "python",
   "pygments_lexer": "ipython3",
   "version": "3.9.5"
  }
 },
 "nbformat": 4,
 "nbformat_minor": 5
}
