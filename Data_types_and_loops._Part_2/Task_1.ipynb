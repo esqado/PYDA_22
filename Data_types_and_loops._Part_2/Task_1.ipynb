{
 "cells": [
  {
   "cell_type": "code",
   "execution_count": 17,
   "id": "6f0fd3af",
   "metadata": {},
   "outputs": [
    {
     "name": "stdout",
     "output_type": "stream",
     "text": [
      "Результат: {98, 35, 15, 213, 54, 119}\n"
     ]
    }
   ],
   "source": [
    "def func():\n",
    "    \n",
    "    ids = {'user1': [213, 213, 213, 15, 213],\n",
    "            'user2': [54, 54, 119, 119, 119],\n",
    "            'user3': [213, 98, 98, 35]}\n",
    "    \n",
    "    ids_unic = []\n",
    "    \n",
    "    for i in ids:\n",
    "        ids_unic += ids[i]\n",
    "    \n",
    "    print('Результат: ' + str(set(ids_unic)))\n",
    "    \n",
    "func()"
   ]
  }
 ],
 "metadata": {
  "kernelspec": {
   "display_name": "Python 3",
   "language": "python",
   "name": "python3"
  },
  "language_info": {
   "codemirror_mode": {
    "name": "ipython",
    "version": 3
   },
   "file_extension": ".py",
   "mimetype": "text/x-python",
   "name": "python",
   "nbconvert_exporter": "python",
   "pygments_lexer": "ipython3",
   "version": "3.9.5"
  }
 },
 "nbformat": 4,
 "nbformat_minor": 5
}
