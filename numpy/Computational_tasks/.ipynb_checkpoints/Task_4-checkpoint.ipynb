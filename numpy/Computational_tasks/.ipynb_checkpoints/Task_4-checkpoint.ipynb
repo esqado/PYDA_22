{
 "cells": [
  {
   "cell_type": "code",
   "execution_count": 37,
   "id": "6f0fd3af",
   "metadata": {},
   "outputs": [
    {
     "name": "stdout",
     "output_type": "stream",
     "text": [
      "[10  9  8  7  6  5  4  3  2  1  0]\n"
     ]
    }
   ],
   "source": [
    "import numpy as np\n",
    "\n",
    "def func(N):\n",
    "    \n",
    "    users_stats = np.array(\n",
    "        [\n",
    "            [2, 1, 0, 0, 0, 0],\n",
    "            [1, 1, 2, 1, 0, 0],\n",
    "            [2, 0, 1, 0, 0, 0],\n",
    "            [1, 1, 2, 1, 0, 1],\n",
    "            [0, 0, 1, 2, 0, 0],\n",
    "            [0, 0, 0, 0, 0, 5],\n",
    "            [1, 0, 0, 0, 0, 0],\n",
    "            [0, 1, 1, 0, 0, 0],\n",
    "            [0, 0, 0, 1, 1, 3],\n",
    "            [1, 0, 0, 2, 1, 4]\n",
    "        ], \n",
    "        np.int32\n",
    "    )\n",
    "    \n",
    "    next_user_stats = np.array([0, 1, 2, 0, 0, 0])\n",
    "    \n",
    "func(11)"
   ]
  }
 ],
 "metadata": {
  "kernelspec": {
   "display_name": "Python 3 (ipykernel)",
   "language": "python",
   "name": "python3"
  },
  "language_info": {
   "codemirror_mode": {
    "name": "ipython",
    "version": 3
   },
   "file_extension": ".py",
   "mimetype": "text/x-python",
   "name": "python",
   "nbconvert_exporter": "python",
   "pygments_lexer": "ipython3",
   "version": "3.9.6"
  }
 },
 "nbformat": 4,
 "nbformat_minor": 5
}
