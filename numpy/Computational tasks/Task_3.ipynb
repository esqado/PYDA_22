{
 "cells": [
  {
   "cell_type": "code",
   "execution_count": 75,
   "id": "cb88c16d",
   "metadata": {},
   "outputs": [],
   "source": [
    "class Designer:\n",
    "    \n",
    "    def __init__(self):\n",
    "        self.score = 0\n",
    "        self.graid = 0\n",
    "        self.prize = 2\n",
    "\n",
    "    def add_score(self): #Баллы\n",
    "        self.score += 1\n",
    "        if self.score % 7 == 0:\n",
    "            self.add_graid()\n",
    "        \n",
    "    def add_graid(self): #Грейды\n",
    "        self.graid += 1\n",
    "    \n",
    "    def add_prize(self): #Премии\n",
    "        self.prize += 1\n",
    "        self.add_score()\n",
    "        self.add_score()\n",
    "    \n",
    "    def print_score(self):\n",
    "        print('print score')\n",
    "        "
   ]
  },
  {
   "cell_type": "code",
   "execution_count": 89,
   "id": "13db0a6f",
   "metadata": {},
   "outputs": [
    {
     "name": "stdout",
     "output_type": "stream",
     "text": [
      "8\n",
      "1\n",
      "3\n"
     ]
    }
   ],
   "source": [
    "#des = Designer()\n",
    "des.add_score()\n",
    "des.add_prize()\n",
    "print(des.score)\n",
    "print(des.graid)\n",
    "print(des.prize)"
   ]
  }
 ],
 "metadata": {
  "kernelspec": {
   "display_name": "Python 3",
   "language": "python",
   "name": "python3"
  },
  "language_info": {
   "codemirror_mode": {
    "name": "ipython",
    "version": 3
   },
   "file_extension": ".py",
   "mimetype": "text/x-python",
   "name": "python",
   "nbconvert_exporter": "python",
   "pygments_lexer": "ipython3",
   "version": "3.9.5"
  }
 },
 "nbformat": 4,
 "nbformat_minor": 5
}
