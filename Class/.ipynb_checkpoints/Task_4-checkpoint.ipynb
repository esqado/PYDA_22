{
 "cells": [
  {
   "cell_type": "code",
   "execution_count": 24,
   "id": "42bff28d",
   "metadata": {},
   "outputs": [
    {
     "name": "stdout",
     "output_type": "stream",
     "text": [
      "mail.ru: 1\n",
      "gmail.com: 2\n",
      "ya.ru: 2\n",
      "test.in: 1\n"
     ]
    }
   ],
   "source": [
    "import re\n",
    "\n",
    "def func():\n",
    "    \n",
    "    emails = ['test@gmail.com', 'xyz@test.in', 'test@ya.ru', 'xyz@mail.ru', 'xyz@ya.ru', 'xyz@gmail.com']\n",
    "    emails_edited = []\n",
    "    \n",
    "    for item in emails:\n",
    "        emails_edited += re.findall(r'(\\w+\\.+\\w+)', item)\n",
    "    \n",
    "    for item in set(emails_edited):\n",
    "        print(item + ': ' + str(emails_edited.count(item)))\n",
    "    \n",
    "func()"
   ]
  }
 ],
 "metadata": {
  "kernelspec": {
   "display_name": "Python 3",
   "language": "python",
   "name": "python3"
  },
  "language_info": {
   "codemirror_mode": {
    "name": "ipython",
    "version": 3
   },
   "file_extension": ".py",
   "mimetype": "text/x-python",
   "name": "python",
   "nbconvert_exporter": "python",
   "pygments_lexer": "ipython3",
   "version": "3.9.5"
  }
 },
 "nbformat": 4,
 "nbformat_minor": 5
}
