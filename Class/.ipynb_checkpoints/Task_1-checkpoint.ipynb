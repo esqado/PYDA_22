{
 "cells": [
  {
   "cell_type": "code",
   "execution_count": 53,
   "id": "6f0fd3af",
   "metadata": {},
   "outputs": [
    {
     "name": "stdout",
     "output_type": "stream",
     "text": [
      "Максимальная стоимость: СДР (специальные права заимствования)\n",
      "Минимальная  стоимость: Китайский юань\n"
     ]
    }
   ],
   "source": [
    "import requests\n",
    "\n",
    "def func():\n",
    "    \n",
    "    full_data = requests.get('https://www.cbr-xml-daily.ru/daily_json.js').json()['Valute']\n",
    "    result = {}\n",
    "    \n",
    "    for item in full_data.values():\n",
    "        result[item['Value']] = item['Name']\n",
    "        \n",
    "    print('Максимальная стоимость: ' + result[max(sorted(list(result.keys())))])\n",
    "    print('Минимальная  стоимость: ' + result[min(sorted(list(result.keys())))])\n",
    "    \n",
    "func()"
   ]
  }
 ],
 "metadata": {
  "kernelspec": {
   "display_name": "Python 3",
   "language": "python",
   "name": "python3"
  },
  "language_info": {
   "codemirror_mode": {
    "name": "ipython",
    "version": 3
   },
   "file_extension": ".py",
   "mimetype": "text/x-python",
   "name": "python",
   "nbconvert_exporter": "python",
   "pygments_lexer": "ipython3",
   "version": "3.9.5"
  }
 },
 "nbformat": 4,
 "nbformat_minor": 5
}
