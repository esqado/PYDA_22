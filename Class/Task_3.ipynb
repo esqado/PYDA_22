{
 "cells": [
  {
   "cell_type": "code",
   "execution_count": 41,
   "id": "cb88c16d",
   "metadata": {},
   "outputs": [
    {
     "name": "stdout",
     "output_type": "stream",
     "text": [
      "NFC\n"
     ]
    }
   ],
   "source": [
    "import re\n",
    "\n",
    "def func():\n",
    "    \n",
    "    some_words = 'Информационные технологии'\n",
    "    some_words = 'Near Field Communication'\n",
    "    \n",
    "    print(''.join(re.findall(r'\\b\\w', some_words)).upper())\n",
    "    \n",
    "func()"
   ]
  }
 ],
 "metadata": {
  "kernelspec": {
   "display_name": "Python 3",
   "language": "python",
   "name": "python3"
  },
  "language_info": {
   "codemirror_mode": {
    "name": "ipython",
    "version": 3
   },
   "file_extension": ".py",
   "mimetype": "text/x-python",
   "name": "python",
   "nbconvert_exporter": "python",
   "pygments_lexer": "ipython3",
   "version": "3.9.5"
  }
 },
 "nbformat": 4,
 "nbformat_minor": 5
}
