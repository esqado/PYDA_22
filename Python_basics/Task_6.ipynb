{
 "cells": [
  {
   "cell_type": "code",
   "execution_count": 12,
   "id": "42bff28d",
   "metadata": {},
   "outputs": [
    {
     "name": "stdout",
     "output_type": "stream",
     "text": [
      "Введите наименование фигуры (круг, треугольник, прямоугольник):прямоугольник\n",
      "Имя фигуры введено не верно.\n",
      "Введите длину сторны A: 2\n",
      "Введите длину сторны B: 4\n",
      "Площадь прямоугольника равна: 8.0\n"
     ]
    }
   ],
   "source": [
    "figure = input(\"Введите наименование фигуры (круг, треугольник, прямоугольник):\")\n",
    "\n",
    "if figure != 'круг' or figure != 'треугольник' or figure != 'прямоугольник':\n",
    "    print(\"Имя фигуры введено не верно.\")\n",
    "    # прерывание кода\n",
    "\n",
    "if figure == 'круг':\n",
    "    radius = float(input(\"Введите радиус круга: \"))\n",
    "    print(\"Площадь круга равна: \" + str(3.14 * radius ** 2))\n",
    "    \n",
    "elif figure == 'треугольник':\n",
    "    A = float(input(\"Введите длину сторны А: \"))\n",
    "    B = float(input(\"Введите длину сторны B: \"))\n",
    "    C = float(input(\"Введите длину сторны C: \"))\n",
    "    print(\"Площать треугольника равна: \" + str(A + B + C / 2))\n",
    "    \n",
    "elif figure == 'прямоугольник':\n",
    "    A = float(input(\"Введите длину сторны A: \"))\n",
    "    B = float(input(\"Введите длину сторны B: \"))\n",
    "    \n",
    "    print(\"Площадь прямоугольника равна: \" + str(A * B))"
   ]
  },
  {
   "cell_type": "code",
   "execution_count": null,
   "id": "17c3fd3f",
   "metadata": {},
   "outputs": [],
   "source": []
  }
 ],
 "metadata": {
  "kernelspec": {
   "display_name": "Python 3",
   "language": "python",
   "name": "python3"
  },
  "language_info": {
   "codemirror_mode": {
    "name": "ipython",
    "version": 3
   },
   "file_extension": ".py",
   "mimetype": "text/x-python",
   "name": "python",
   "nbconvert_exporter": "python",
   "pygments_lexer": "ipython3",
   "version": "3.9.5"
  }
 },
 "nbformat": 4,
 "nbformat_minor": 5
}
