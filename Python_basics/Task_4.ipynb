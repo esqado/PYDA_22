{
 "cells": [
  {
   "cell_type": "code",
   "execution_count": 11,
   "id": "42bff28d",
   "metadata": {},
   "outputs": [
    {
     "name": "stdout",
     "output_type": "stream",
     "text": [
      "Коробка №1\n"
     ]
    }
   ],
   "source": [
    "width = 14\n",
    "length = 14\n",
    "height = 14\n",
    "\n",
    "box1 = 'Коробка №1'\n",
    "box2 = 'Коробка №2'\n",
    "box3 = 'Стандартная коробка №3'\n",
    "skibox = 'Упаковка для лыж'\n",
    "\n",
    "if width < 15 and length < 15 and height < 15:\n",
    "    print(box1)\n",
    "elif (width > 15 and width <= 50 ) or (length > 15 and length < 50) or (height > 15 and height > 15):\n",
    "    print(box2)\n",
    "elif length > 200:\n",
    "    print(skibox)\n",
    "else:\n",
    "    print(box3)\n"
   ]
  },
  {
   "cell_type": "code",
   "execution_count": null,
   "id": "9315aedd",
   "metadata": {},
   "outputs": [],
   "source": []
  }
 ],
 "metadata": {
  "kernelspec": {
   "display_name": "Python 3",
   "language": "python",
   "name": "python3"
  },
  "language_info": {
   "codemirror_mode": {
    "name": "ipython",
    "version": 3
   },
   "file_extension": ".py",
   "mimetype": "text/x-python",
   "name": "python",
   "nbconvert_exporter": "python",
   "pygments_lexer": "ipython3",
   "version": "3.9.5"
  }
 },
 "nbformat": 4,
 "nbformat_minor": 5
}
