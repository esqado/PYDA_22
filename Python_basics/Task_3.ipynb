{
 "cells": [
  {
   "cell_type": "code",
   "execution_count": 3,
   "id": "cb88c16d",
   "metadata": {},
   "outputs": [
    {
     "name": "stdout",
     "output_type": "stream",
     "text": [
      "Введите день:11\n",
      "Введите месяц:Июнь\n",
      "Ваш знак зодиака: Близнецы\n"
     ]
    }
   ],
   "source": [
    "def func():\n",
    "    \n",
    "    day = int(input(\"Введите день:\"))\n",
    "    month = input(\"Введите месяц:\")\n",
    "\n",
    "    if day == '' or month == '':\n",
    "        print(\"Прервать выполнение\")#break - тут должно быть прерывание\n",
    "\n",
    "    zodiak = \"не определен\"\n",
    "\n",
    "    if (day>=21 and day<=31 and month==\"Март\") or( month==\"Апрель\" and day>=1 and day<=19):\n",
    "       zodiak = \"Овен\"\n",
    "    elif (day>=20 and day<=30 and month==\"Апрель\") or( month==\"Май\" and day>=1 and day<=20):\n",
    "       zodiak = \"Телец\"\n",
    "    elif (day>=21 and day<=31 and month==\"Май\") or( month==\"Июнь\" and day>=1 and day<=21):\n",
    "       zodiak = \"Близнецы\"\n",
    "    elif (day>=22 and day<=30 and month==\"Июнь\") or( month==\"Июль\" and day>=1 and day<=22):\n",
    "       zodiak = \"Рак\"\n",
    "    elif (day>=23 and day<=31 and month==\"Июль\") or( month==\"Август\" and day>=1 and day<=22):\n",
    "       zodiak = \"Лев\"\n",
    "    elif (day>=23 and day<=31 and month==\"Август\") or( month==\"Сентябрь\" and day>=1 and day<=22):\n",
    "       zodiak = \"Дева\"\n",
    "    elif (day>=23 and day<=30 and month==\"Сентябрь\") or( month==\"Октябрь\" and day>=1 and day<=23):\n",
    "       zodiak = \"Весы\"\n",
    "    elif (day>=24 and day<=31 and month==\"Октябрь\") or( month==\"Ноябрь\" and day>=1 and day<=22):\n",
    "       zodiak = \"Скорпион\"\n",
    "    elif (day>=23 and day<=30 and month==\"Ноябрь\") or( month==\"Декабрь\" and day>=1 and day<=21):\n",
    "       zodiak = \"Стрелец\"\n",
    "    elif (day>=22 and day<=31 and month==\"Декабрь\") or( month==\"Январь\" and day>=1 and day<=20):\n",
    "       zodiak = \"Козерог\"\n",
    "    elif (day>=21 and day<=31 and month==\"Январь\") or( month==\"Февраль\" and day>=1 and day<=18):\n",
    "       zodiak = \"Водолей\"\n",
    "    elif (day>=19 and day<=29 and month==\"Февраль\") or( month==\"Март\" and day>=1 and day<=20):\n",
    "       zodiak = \"Рыбы\"\n",
    "\n",
    "    print(\"Ваш знак зодиака: \" + zodiak)\n",
    "\n",
    "func()"
   ]
  }
 ],
 "metadata": {
  "kernelspec": {
   "display_name": "Python 3",
   "language": "python",
   "name": "python3"
  },
  "language_info": {
   "codemirror_mode": {
    "name": "ipython",
    "version": 3
   },
   "file_extension": ".py",
   "mimetype": "text/x-python",
   "name": "python",
   "nbconvert_exporter": "python",
   "pygments_lexer": "ipython3",
   "version": "3.9.5"
  }
 },
 "nbformat": 4,
 "nbformat_minor": 5
}
