{
 "cells": [
  {
   "cell_type": "code",
   "execution_count": 61,
   "id": "6f0fd3af",
   "metadata": {},
   "outputs": [],
   "source": [
    "import json\n",
    "\n",
    "def word():\n",
    "    \n",
    "    funnel = open('Downloads/funnel.csv', 'w')\n",
    "    purchase = open('Downloads/purchase_log.txt', 'r')\n",
    "    purchase_log = purchase.readlines()\n",
    "    purchases = {}\n",
    "    \n",
    "    for line in purchase_log:\n",
    "        dict_line = json.loads(line)\n",
    "        purchases[dict_line['user_id']] = dict_line['category']\n",
    "\n",
    "    visit_log = open('Downloads/visit_log.csv', 'r')\n",
    "    visit_log.readline()\n",
    "    \n",
    "    for line in visit_log:\n",
    "        res = purchases.get(line.split(',')[0])\n",
    "        if res != None:\n",
    "            funnel.write(res + ',' + line)\n",
    "    \n",
    "    funnel.close()\n",
    "    \n",
    "word()"
   ]
  }
 ],
 "metadata": {
  "kernelspec": {
   "display_name": "Python 3",
   "language": "python",
   "name": "python3"
  },
  "language_info": {
   "codemirror_mode": {
    "name": "ipython",
    "version": 3
   },
   "file_extension": ".py",
   "mimetype": "text/x-python",
   "name": "python",
   "nbconvert_exporter": "python",
   "pygments_lexer": "ipython3",
   "version": "3.9.5"
  }
 },
 "nbformat": 4,
 "nbformat_minor": 5
}
