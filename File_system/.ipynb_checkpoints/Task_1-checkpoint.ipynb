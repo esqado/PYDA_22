{
 "cells": [
  {
   "cell_type": "code",
   "execution_count": 96,
   "id": "6f0fd3af",
   "metadata": {},
   "outputs": [],
   "source": [
    "def word():\n",
    "    \n",
    "    purchases = {}\n",
    "    file = open('Downloads/purchase_log.txt', 'r')\n",
    "    \n",
    "    for line in file:\n",
    "        split_line = line.split('\"')\n",
    "        purchases[split_line[3]] = split_line[7]\n",
    "    \n",
    "word()"
   ]
  }
 ],
 "metadata": {
  "kernelspec": {
   "display_name": "Python 3",
   "language": "python",
   "name": "python3"
  },
  "language_info": {
   "codemirror_mode": {
    "name": "ipython",
    "version": 3
   },
   "file_extension": ".py",
   "mimetype": "text/x-python",
   "name": "python",
   "nbconvert_exporter": "python",
   "pygments_lexer": "ipython3",
   "version": "3.9.5"
  }
 },
 "nbformat": 4,
 "nbformat_minor": 5
}
