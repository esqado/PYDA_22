{
 "cells": [
  {
   "cell_type": "code",
   "execution_count": 97,
   "id": "6f0fd3af",
   "metadata": {},
   "outputs": [],
   "source": [
    "import json\n",
    "\n",
    "def word():\n",
    "    \n",
    "    purchases = {}\n",
    "    file = open('Downloads/purchase_log.txt', 'r')\n",
    "    \n",
    "    for line in file:\n",
    "        dict_line = json.loads(line)\n",
    "        purchases[dict_line['user_id']] = dict_line['category']\n",
    "    \n",
    "word()"
   ]
  }
 ],
 "metadata": {
  "kernelspec": {
   "display_name": "Python 3",
   "language": "python",
   "name": "python3"
  },
  "language_info": {
   "codemirror_mode": {
    "name": "ipython",
    "version": 3
   },
   "file_extension": ".py",
   "mimetype": "text/x-python",
   "name": "python",
   "nbconvert_exporter": "python",
   "pygments_lexer": "ipython3",
   "version": "3.9.5"
  }
 },
 "nbformat": 4,
 "nbformat_minor": 5
}
