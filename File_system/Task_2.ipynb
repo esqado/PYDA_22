{
 "cells": [
  {
   "cell_type": "code",
   "execution_count": 38,
   "id": "6f0fd3af",
   "metadata": {},
   "outputs": [],
   "source": [
    "def word():\n",
    "    \n",
    "    funnel = open('Downloads/funnel.csv', 'w')\n",
    "    purchase = open('Downloads/purchase_log.txt', 'r')\n",
    "    purchase_log = purchase.readlines()\n",
    "    purchases = {}\n",
    "    \n",
    "    for line in purchase_log:\n",
    "        split_line = line.split('\"')\n",
    "        purchases[split_line[3]] = split_line[7]\n",
    "\n",
    "    visit_log = open('Downloads/visit_log.csv', 'r')\n",
    "    visit_log.readline()\n",
    "    \n",
    "    for line in visit_log:\n",
    "        res = purchases.get(line.split(',')[0])\n",
    "        if res != None:\n",
    "            funnel = open('Downloads/funnel.csv', 'a')\n",
    "            funnel.write(line)\n",
    "    \n",
    "    funnel.close()\n",
    "    \n",
    "word()"
   ]
  },
  {
   "cell_type": "code",
   "execution_count": null,
   "id": "7d3aa761",
   "metadata": {},
   "outputs": [],
   "source": []
  }
 ],
 "metadata": {
  "kernelspec": {
   "display_name": "Python 3",
   "language": "python",
   "name": "python3"
  },
  "language_info": {
   "codemirror_mode": {
    "name": "ipython",
    "version": 3
   },
   "file_extension": ".py",
   "mimetype": "text/x-python",
   "name": "python",
   "nbconvert_exporter": "python",
   "pygments_lexer": "ipython3",
   "version": "3.9.5"
  }
 },
 "nbformat": 4,
 "nbformat_minor": 5
}
