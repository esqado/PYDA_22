{
 "cells": [
  {
   "cell_type": "code",
   "execution_count": 90,
   "id": "6f0fd3af",
   "metadata": {},
   "outputs": [
    {
     "name": "stdout",
     "output_type": "stream",
     "text": [
      "[0, 3, 4]\n"
     ]
    }
   ],
   "source": [
    "def word ():\n",
    "    \n",
    "    word = \"10 15 15 103 200 200 200 1 1 1 1 1 2 2 2\".split(' ')\n",
    "    word = \"4 8 0 3 4 2 0 3\".split(' ')\n",
    "    #word = \"1 1 2 2 3 3\".split(' ')\n",
    "    \n",
    "    new_list = list()\n",
    "    \n",
    "    for i in word:\n",
    "        if word.count(i) > 1:\n",
    "            new_list.append(int(i))\n",
    "    \n",
    "    print(sorted(set(new_list)))\n",
    "    \n",
    "word()\n"
   ]
  }
 ],
 "metadata": {
  "kernelspec": {
   "display_name": "Python 3",
   "language": "python",
   "name": "python3"
  },
  "language_info": {
   "codemirror_mode": {
    "name": "ipython",
    "version": 3
   },
   "file_extension": ".py",
   "mimetype": "text/x-python",
   "name": "python",
   "nbconvert_exporter": "python",
   "pygments_lexer": "ipython3",
   "version": "3.9.5"
  }
 },
 "nbformat": 4,
 "nbformat_minor": 5
}
