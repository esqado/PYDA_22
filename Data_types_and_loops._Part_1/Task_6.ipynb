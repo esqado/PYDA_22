{
 "cells": [
  {
   "cell_type": "code",
   "execution_count": 9,
   "id": "6f0fd3af",
   "metadata": {},
   "outputs": [
    {
     "name": "stdout",
     "output_type": "stream",
     "text": [
      "Введите числа через пробел: 1 1 1\n",
      "['1', '1', '1']\n"
     ]
    }
   ],
   "source": [
    "def word ():\n",
    "    \n",
    "    word = input(\"Введите числа через пробел: \")\n",
    "    word = word.split(' ')\n",
    "    print(word)\n",
    "    \n",
    "    [word[i] for i in range(len(z)) if i == z.index(z[i])]\n",
    "    for i in word:\n",
    "        [z[i] for i in range(len(z)) if i == z.index(z[i])]\n",
    "    #if not word.isdigit():\n",
    "        #print('В строке есть не числовое значение')\n",
    "        #return\n",
    "        \n",
    "word()\n"
   ]
  },
  {
   "cell_type": "code",
   "execution_count": null,
   "id": "74fee832",
   "metadata": {},
   "outputs": [],
   "source": []
  }
 ],
 "metadata": {
  "kernelspec": {
   "display_name": "Python 3",
   "language": "python",
   "name": "python3"
  },
  "language_info": {
   "codemirror_mode": {
    "name": "ipython",
    "version": 3
   },
   "file_extension": ".py",
   "mimetype": "text/x-python",
   "name": "python",
   "nbconvert_exporter": "python",
   "pygments_lexer": "ipython3",
   "version": "3.9.5"
  }
 },
 "nbformat": 4,
 "nbformat_minor": 5
}
