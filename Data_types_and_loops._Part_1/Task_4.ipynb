{
 "cells": [
  {
   "cell_type": "code",
   "execution_count": 45,
   "id": "6f0fd3af",
   "metadata": {},
   "outputs": [
    {
     "name": "stdout",
     "output_type": "stream",
     "text": [
      "Thailand - 23.9\n",
      "Germany - 13.8\n",
      "Russia - 3.7\n",
      "Poland - 12.0\n"
     ]
    }
   ],
   "source": [
    "def word ():\n",
    "    \n",
    "    countries_temperature = [\n",
    "        ['Thailand', [75.2, 77, 78.8, 73.4, 68, 75.2, 77]],\n",
    "        ['Germany', [57.2, 55.4, 59, 59, 53.6]],\n",
    "        ['Russia', [35.6, 37.4, 39.2, 41, 42.8, 39.2, 35.6]],\n",
    "        ['Poland', [50, 50, 53.6, 57.2, 55.4, 55.4]]\n",
    "    ]\n",
    "    \n",
    "    for i in countries_temperature:\n",
    "        tempC = float(sum(i[1]) / len(i[1]))\n",
    "        tempF = (tempC - 32) * 5/9\n",
    "        print(i[0] + ' - ' + str(round(tempF, 1)))\n",
    "        \n",
    "word()\n"
   ]
  }
 ],
 "metadata": {
  "kernelspec": {
   "display_name": "Python 3",
   "language": "python",
   "name": "python3"
  },
  "language_info": {
   "codemirror_mode": {
    "name": "ipython",
    "version": 3
   },
   "file_extension": ".py",
   "mimetype": "text/x-python",
   "name": "python",
   "nbconvert_exporter": "python",
   "pygments_lexer": "ipython3",
   "version": "3.9.5"
  }
 },
 "nbformat": 4,
 "nbformat_minor": 5
}
