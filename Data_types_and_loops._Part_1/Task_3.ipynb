{
 "cells": [
  {
   "cell_type": "code",
   "execution_count": 45,
   "id": "6f0fd3af",
   "metadata": {},
   "outputs": [
    {
     "name": "stdout",
     "output_type": "stream",
     "text": [
      "Идеальные пары:\n",
      "Alex и Emma\n",
      "Arthur и Kate\n",
      "John и Kira\n",
      "Peter и Liza\n",
      "Richard и Trisha\n"
     ]
    }
   ],
   "source": [
    "def word ():\n",
    "    \n",
    "    boys = ['Peter', 'Alex', 'John', 'Arthur', 'Richard', 'Michael']\n",
    "    girls = ['Kate', 'Liza', 'Kira', 'Emma', 'Trisha']\n",
    "    \n",
    "    boys = ['Peter', 'Alex', 'John', 'Arthur', 'Richard']\n",
    "    girls = ['Kate', 'Liza', 'Kira', 'Emma', 'Trisha']\n",
    "    \n",
    "    boys.sort()\n",
    "    girls.sort()\n",
    "    \n",
    "    if len(boys) != len(girls):\n",
    "        if len(boys) > len(girls): # а ещё мы проверим, кто же остался без пары\n",
    "            for i in range(len(girls), (len(boys) + 1)):\n",
    "                print(\"Без пары останется: \" + boys[i-1])\n",
    "        else\n",
    "            for i in range(len(boys), (len(girls) + 1)):\n",
    "                print(\"Без пары останется: \" + girls[i-1])\n",
    "        return\n",
    "    \n",
    "    print(\"Идеальные пары:\")\n",
    "    for i in range(len(boys)):\n",
    "        print(boys[i] + \" и \" + girls[i])\n",
    "    \n",
    "word()\n"
   ]
  },
  {
   "cell_type": "code",
   "execution_count": null,
   "id": "74fee832",
   "metadata": {},
   "outputs": [],
   "source": []
  }
 ],
 "metadata": {
  "kernelspec": {
   "display_name": "Python 3",
   "language": "python",
   "name": "python3"
  },
  "language_info": {
   "codemirror_mode": {
    "name": "ipython",
    "version": 3
   },
   "file_extension": ".py",
   "mimetype": "text/x-python",
   "name": "python",
   "nbconvert_exporter": "python",
   "pygments_lexer": "ipython3",
   "version": "3.9.5"
  }
 },
 "nbformat": 4,
 "nbformat_minor": 5
}
