{
 "cells": [
  {
   "cell_type": "code",
   "execution_count": 55,
   "id": "6f0fd3af",
   "metadata": {},
   "outputs": [
    {
     "name": "stdout",
     "output_type": "stream",
     "text": [
      "Введите слово: \n",
      "\n"
     ]
    }
   ],
   "source": [
    "def word ():\n",
    "    \n",
    "    word = input(\"Введите слово: \")\n",
    "    #word = 'test'\n",
    "    #word = 'testing'\n",
    "    \n",
    "    if word.isdigit():\n",
    "        print(\"Введите строку\")\n",
    "        return\n",
    "\n",
    "    length = len(word)\n",
    "    \n",
    "    if length % 2 == 0:\n",
    "        mid = int(length / 2)\n",
    "        print(word[mid-1:mid+1])\n",
    "    else:\n",
    "        mid = int(length // 2)\n",
    "        print(word[mid:mid+1])\n",
    "        \n",
    "word()\n"
   ]
  },
  {
   "cell_type": "code",
   "execution_count": null,
   "id": "74fee832",
   "metadata": {},
   "outputs": [],
   "source": []
  }
 ],
 "metadata": {
  "kernelspec": {
   "display_name": "Python 3",
   "language": "python",
   "name": "python3"
  },
  "language_info": {
   "codemirror_mode": {
    "name": "ipython",
    "version": 3
   },
   "file_extension": ".py",
   "mimetype": "text/x-python",
   "name": "python",
   "nbconvert_exporter": "python",
   "pygments_lexer": "ipython3",
   "version": "3.9.5"
  }
 },
 "nbformat": 4,
 "nbformat_minor": 5
}
