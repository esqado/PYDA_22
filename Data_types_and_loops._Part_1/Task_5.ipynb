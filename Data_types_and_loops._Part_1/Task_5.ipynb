{
 "cells": [
  {
   "cell_type": "code",
   "execution_count": 55,
   "id": "6f0fd3af",
   "metadata": {},
   "outputs": [
    {
     "name": "stdout",
     "output_type": "stream",
     "text": [
      "Введите слово: \n",
      "\n"
     ]
    }
   ],
   "source": [
    "def word ():\n",
    "    \n",
    "    stream = [\n",
    "        '2018-01-01,user1,3',\n",
    "        '2018-01-07,user1,4',\n",
    "        '2018-03-29,user1,1',\n",
    "        '2018-04-04,user1,13',\n",
    "        '2018-01-05,user2,7',\n",
    "        '2018-06-14,user3,4',\n",
    "        '2018-07-02,user3,10',\n",
    "        '2018-03-21,user4,19',\n",
    "        '2018-03-22,user4,4',\n",
    "        '2018-04-22,user4,8',\n",
    "        '2018-05-03,user4,9',\n",
    "        '2018-05-11,user4,11',\n",
    "    ]\n",
    "    \n",
    "    \n",
    "\n",
    "word()\n"
   ]
  },
  {
   "cell_type": "code",
   "execution_count": null,
   "id": "74fee832",
   "metadata": {},
   "outputs": [],
   "source": []
  }
 ],
 "metadata": {
  "kernelspec": {
   "display_name": "Python 3",
   "language": "python",
   "name": "python3"
  },
  "language_info": {
   "codemirror_mode": {
    "name": "ipython",
    "version": 3
   },
   "file_extension": ".py",
   "mimetype": "text/x-python",
   "name": "python",
   "nbconvert_exporter": "python",
   "pygments_lexer": "ipython3",
   "version": "3.9.5"
  }
 },
 "nbformat": 4,
 "nbformat_minor": 5
}
