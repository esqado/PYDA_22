{
 "cells": [
  {
   "cell_type": "code",
   "execution_count": 19,
   "id": "6f0fd3af",
   "metadata": {
    "scrolled": true
   },
   "outputs": [
    {
     "name": "stdout",
     "output_type": "stream",
     "text": [
      "Введите число: 1\n",
      "Введите число: 2\n",
      "Введите число: 3\n",
      "Введите число: 0\n",
      "Сумма ваших чисел: 6\n"
     ]
    }
   ],
   "source": [
    "def word ():\n",
    "    \n",
    "    summary = 0\n",
    "    \n",
    "    breaker = 1\n",
    "    \n",
    "    while breaker != 0:\n",
    "        \n",
    "        digit = input('Введите число: ')\n",
    "        \n",
    "        if not digit.isdigit():\n",
    "            print(\"Введена буква\")\n",
    "            return str(summary)\n",
    "        \n",
    "        digit = int(digit)\n",
    "\n",
    "        if digit == 0:\n",
    "            breaker = 0\n",
    "\n",
    "        summary = summary + digit\n",
    "        \n",
    "    return str(summary)\n",
    "        \n",
    "print(\"Сумма ваших чисел: \" + word())\n"
   ]
  },
  {
   "cell_type": "code",
   "execution_count": null,
   "id": "ce0ef2b8",
   "metadata": {},
   "outputs": [],
   "source": []
  }
 ],
 "metadata": {
  "kernelspec": {
   "display_name": "Python 3",
   "language": "python",
   "name": "python3"
  },
  "language_info": {
   "codemirror_mode": {
    "name": "ipython",
    "version": 3
   },
   "file_extension": ".py",
   "mimetype": "text/x-python",
   "name": "python",
   "nbconvert_exporter": "python",
   "pygments_lexer": "ipython3",
   "version": "3.9.5"
  }
 },
 "nbformat": 4,
 "nbformat_minor": 5
}
