{
 "cells": [
  {
   "cell_type": "code",
   "execution_count": 66,
   "id": "6f0fd3af",
   "metadata": {},
   "outputs": [
    {
     "name": "stdout",
     "output_type": "stream",
     "text": [
      "The Moscow Times - Wednesday, October 2, 2002\n",
      "Monday, June 21, 2021\n",
      "2002-10-02 00:00:00\n",
      "\n",
      "The Guardian - Friday, 11.10.13\n",
      "Monday, 21.06.21\n",
      "2013-10-11 00:00:00\n",
      "\n",
      "Daily News - Thursday, 18 August 1977\n",
      "Monday, 21 June 2021\n",
      "1977-08-18 00:00:00\n",
      "\n"
     ]
    }
   ],
   "source": [
    "def func(): # я не понял, что требуется сделать\n",
    "    \n",
    "    from datetime import datetime\n",
    "    \n",
    "    print('The Moscow Times - Wednesday, October 2, 2002')\n",
    "    print(datetime.today().strftime('%A, %B %d, %Y'))\n",
    "    print(datetime.strptime('Wednesday, October 2, 2002', '%A, %B %d, %Y'))\n",
    "    print()\n",
    "    \n",
    "    print('The Guardian - Friday, 11.10.13') \n",
    "    print(datetime.today().strftime('%A, %d.%m.%y'))\n",
    "    print(datetime.strptime('Friday, 11.10.13', '%A, %d.%m.%y'))\n",
    "    print()\n",
    "    \n",
    "    print('Daily News - Thursday, 18 August 1977')\n",
    "    print(datetime.today().strftime('%A, %d %B %Y'))\n",
    "    print(datetime.strptime('Thursday, 18 August 1977', '%A, %d %B %Y'))\n",
    "    print()\n",
    "    \n",
    "func()"
   ]
  },
  {
   "cell_type": "code",
   "execution_count": null,
   "id": "2feab172",
   "metadata": {},
   "outputs": [],
   "source": []
  }
 ],
 "metadata": {
  "kernelspec": {
   "display_name": "Python 3",
   "language": "python",
   "name": "python3"
  },
  "language_info": {
   "codemirror_mode": {
    "name": "ipython",
    "version": 3
   },
   "file_extension": ".py",
   "mimetype": "text/x-python",
   "name": "python",
   "nbconvert_exporter": "python",
   "pygments_lexer": "ipython3",
   "version": "3.9.5"
  }
 },
 "nbformat": 4,
 "nbformat_minor": 5
}
