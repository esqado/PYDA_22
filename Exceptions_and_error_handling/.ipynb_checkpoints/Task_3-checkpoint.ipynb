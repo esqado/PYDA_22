{
 "cells": [
  {
   "cell_type": "code",
   "execution_count": 46,
   "id": "6f0fd3af",
   "metadata": {},
   "outputs": [
    {
     "data": {
      "text/plain": [
       "[]"
      ]
     },
     "execution_count": 46,
     "metadata": {},
     "output_type": "execute_result"
    }
   ],
   "source": [
    "def date_range(start_date, end_date):\n",
    "    \n",
    "    from datetime import datetime, timedelta\n",
    "    \n",
    "    date_list = []\n",
    "    \n",
    "    try:\n",
    "        start_date = datetime.strptime(start_date, '%Y-%m-%d')\n",
    "        end_date = datetime.strptime(end_date, '%Y-%m-%d')\n",
    "    except:\n",
    "        return date_list\n",
    "    \n",
    "    if start_date > end_date:\n",
    "        return date_list\n",
    "    \n",
    "    period_days = (end_date - start_date).days\n",
    "    date_list = [end_date - timedelta(days = x) for x in range(period_days)]\n",
    "    \n",
    "    return date_list\n",
    "\n",
    "date_range('2021-02-29', '2021-06-21')"
   ]
  }
 ],
 "metadata": {
  "kernelspec": {
   "display_name": "Python 3",
   "language": "python",
   "name": "python3"
  },
  "language_info": {
   "codemirror_mode": {
    "name": "ipython",
    "version": 3
   },
   "file_extension": ".py",
   "mimetype": "text/x-python",
   "name": "python",
   "nbconvert_exporter": "python",
   "pygments_lexer": "ipython3",
   "version": "3.9.5"
  }
 },
 "nbformat": 4,
 "nbformat_minor": 5
}
