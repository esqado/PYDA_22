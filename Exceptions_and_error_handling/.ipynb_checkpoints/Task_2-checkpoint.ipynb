{
 "cells": [
  {
   "cell_type": "code",
   "execution_count": 40,
   "id": "6f0fd3af",
   "metadata": {
    "scrolled": true
   },
   "outputs": [
    {
     "name": "stdout",
     "output_type": "stream",
     "text": [
      "true\n",
      "false\n",
      "false\n"
     ]
    }
   ],
   "source": [
    "def func():\n",
    "    \n",
    "    from datetime import datetime\n",
    "    \n",
    "    stream = ['2018-04-02', '2018-02-29', '2018-19-02']\n",
    "    \n",
    "    for item in stream:\n",
    "        try:\n",
    "            datetime.strptime(item, '%Y-%m-%d')\n",
    "            print('true')\n",
    "        except:\n",
    "            print('false')\n",
    "\n",
    "func()"
   ]
  }
 ],
 "metadata": {
  "kernelspec": {
   "display_name": "Python 3",
   "language": "python",
   "name": "python3"
  },
  "language_info": {
   "codemirror_mode": {
    "name": "ipython",
    "version": 3
   },
   "file_extension": ".py",
   "mimetype": "text/x-python",
   "name": "python",
   "nbconvert_exporter": "python",
   "pygments_lexer": "ipython3",
   "version": "3.9.5"
  }
 },
 "nbformat": 4,
 "nbformat_minor": 5
}
